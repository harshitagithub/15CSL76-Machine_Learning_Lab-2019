{
  "nbformat": 4,
  "nbformat_minor": 0,
  "metadata": {
    "colab": {
      "name": "Untitled2.ipynb",
      "provenance": []
    },
    "kernelspec": {
      "name": "python3",
      "display_name": "Python 3"
    }
  },
  "cells": [
    {
      "cell_type": "markdown",
      "metadata": {
        "id": "6Tn9Nxzjk7lR",
        "colab_type": "text"
      },
      "source": [
        "#Lab 9"
      ]
    },
    {
      "cell_type": "code",
      "metadata": {
        "id": "2RhIBPTzoMPo",
        "colab_type": "code",
        "colab": {
          "base_uri": "https://localhost:8080/",
          "height": 581
        },
        "outputId": "b269692d-0f14-4c7d-9677-c8243741051e"
      },
      "source": [
        "from sklearn.model_selection import train_test_split\n",
        "from sklearn.neighbors import KNeighborsClassifier\n",
        "from sklearn import datasets\n",
        "\n",
        "iris = datasets.load_iris()\n",
        "\n",
        "xtrain, xtest, ytrain, ytest = train_test_split(iris.data,iris.target, test_size=0.1)\n",
        "\n",
        "clf = KNeighborsClassifier()\n",
        "clf.fit(xtrain, ytrain)\n",
        "pred = clf.predict(xtest)\n",
        "for i in range(len(xtest)):\n",
        "  print(\"Prediction: \", pred[i], \"  Actual: \", ytest[i],\"\\n\")\n",
        "\n",
        "print(\"Accuracy: \",clf.score(xtest, ytest)*100)"
      ],
      "execution_count": 35,
      "outputs": [
        {
          "output_type": "stream",
          "text": [
            "Prediction:  0   Actual:  0 \n",
            "\n",
            "Prediction:  0   Actual:  0 \n",
            "\n",
            "Prediction:  1   Actual:  1 \n",
            "\n",
            "Prediction:  2   Actual:  1 \n",
            "\n",
            "Prediction:  1   Actual:  1 \n",
            "\n",
            "Prediction:  2   Actual:  2 \n",
            "\n",
            "Prediction:  1   Actual:  1 \n",
            "\n",
            "Prediction:  0   Actual:  0 \n",
            "\n",
            "Prediction:  0   Actual:  0 \n",
            "\n",
            "Prediction:  2   Actual:  2 \n",
            "\n",
            "Prediction:  0   Actual:  0 \n",
            "\n",
            "Prediction:  2   Actual:  2 \n",
            "\n",
            "Prediction:  2   Actual:  2 \n",
            "\n",
            "Prediction:  1   Actual:  1 \n",
            "\n",
            "Prediction:  1   Actual:  1 \n",
            "\n",
            "Accuracy:  93.33333333333333\n"
          ],
          "name": "stdout"
        }
      ]
    },
    {
      "cell_type": "code",
      "metadata": {
        "id": "VBOeg1KJrt_A",
        "colab_type": "code",
        "colab": {}
      },
      "source": [
        ""
      ],
      "execution_count": 0,
      "outputs": []
    }
  ]
}