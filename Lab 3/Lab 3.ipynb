{
  "nbformat": 4,
  "nbformat_minor": 0,
  "metadata": {
    "colab": {
      "name": "Untitled2.ipynb",
      "provenance": []
    },
    "kernelspec": {
      "name": "python3",
      "display_name": "Python 3"
    }
  },
  "cells": [
    {
      "cell_type": "markdown",
      "metadata": {
        "id": "6Tn9Nxzjk7lR",
        "colab_type": "text"
      },
      "source": [
        "#Lab 3"
      ]
    },
    {
      "cell_type": "code",
      "metadata": {
        "id": "KWEEdxAAk4Me",
        "colab_type": "code",
        "colab": {
          "base_uri": "https://localhost:8080/",
          "height": 90
        },
        "outputId": "355b48e3-110d-4231-adb5-370b4960946d"
      },
      "source": [
        "import csv\n",
        "import math\n",
        "\n",
        "def major_class(attrs,data,target):\n",
        " freq={}\n",
        " i=attrs.index(target)\n",
        " for row in data:\n",
        "  freq[row[i]]=freq.get(row[i],0)+1\n",
        " return max(freq,key=freq.get)\n",
        "\n",
        "def entropy(attrs,data,target):\n",
        " freq={}\n",
        " entropy=0\n",
        " i=len(attrs)-1\n",
        " for row in data:\n",
        "  freq[row[i]]=freq.get(row[i],0)+1\n",
        " for val in freq.values():\n",
        "  entropy+=(-val/len(data))*math.log(val/len(data),2)\n",
        " return entropy\n",
        "\n",
        "def info_gain(attrs,data,attribute,target):\n",
        " freq={}\n",
        " sub_entropy=0\n",
        " i=attrs.index(attribute)\n",
        " for row in data:\n",
        "  freq[row[i]]=freq.get(row[i],0)+1\n",
        "  for key in freq.keys():\n",
        "    prob=freq[key]/sum(freq.values())\n",
        "    data_subset=[row for row in data if row[i]==key]\n",
        "    sub_entropy+=prob*entropy(attrs,data_subset,target)\n",
        "  data_subset=[row for row in data if row[0]!=attrs[0]]\n",
        " return (entropy(attrs,data_subset,target)-sub_entropy)\n",
        "\n",
        "def choose_attr(data,attrs,target):\n",
        " best=attrs[0]\n",
        " max_gain=0\n",
        " for attr in attrs:\n",
        "  if attr!=target:\n",
        "    new_gain=info_gain(attrs,data,attr,target)\n",
        "  if new_gain>max_gain:\n",
        "    max_gain=new_gain\n",
        "    best=attr\n",
        " return best\n",
        "\n",
        "def get_values(data,attrs,attribute):\n",
        " i=attrs.index(attribute)\n",
        " values=[]\n",
        " values=[row[i] for row in data if row[i]!=attribute and row[i] not in values]\n",
        " return values\n",
        "\n",
        "def get_data(data,attrs,best,val):\n",
        " i=attrs.index(best)\n",
        " new_data=[[row[j] for j in range(len(row)) if j!=i] for row in data if row[i]==val]\n",
        " return new_data\n",
        "\n",
        "def build_tree(data,attrs,target):\n",
        " vals=[row[attrs.index(target)] for row in data]\n",
        " default=major_class(attrs,data,target)\n",
        " if not data or (len(attrs)-1)<=0:\n",
        "  return default\n",
        " elif vals.count(vals[0])==len(vals):\n",
        "  return vals[0]\n",
        " else:\n",
        "  best=choose_attr(data,attrs,target)\n",
        "  tree={best:{}}\n",
        "  for val in get_values(data,attrs,best):\n",
        "    new_data=get_data(data,attrs,best,val)\n",
        "    new_attrs=attrs[:]\n",
        "    new_attrs.remove(best)\n",
        "    subtree=build_tree(new_data,new_attrs,target)\n",
        "    tree[best][val]=subtree\n",
        " return tree\n",
        "\n",
        "def classify(attrs,inst,tree):\n",
        " attribute=next(iter(tree))\n",
        " i=attrs.index(attribute)\n",
        " if inst[i] in tree[attribute].keys():\n",
        "  result=tree[attribute][inst[i]]\n",
        "  if isinstance(result,dict):\n",
        "    return classify(attrs,inst,result)\n",
        "  else:\n",
        "    return result\n",
        " else:\n",
        "  return None\n",
        "  \n",
        "file=open('P3_data3.csv')\n",
        "data=list(csv.reader(file))\n",
        "attrs=data[0]\n",
        "tree=build_tree(data[1:],attrs,attrs[-1])\n",
        "print('Decistion Tree: \\n',tree)\n",
        "inst=input(\"Enter a test instance:\").split(',')\n",
        "print('Output Class: ',classify(attrs,inst,tree))"
      ],
      "execution_count": 3,
      "outputs": [
        {
          "output_type": "stream",
          "text": [
            "Decistion Tree: \n",
            " {'Outlook': {'sunny': {'Humidity': {'high': 'no', 'normal': 'yes'}}, 'overcast': 'yes', 'rain': {'Wind': {'weak': 'yes', 'strong': 'no'}}}}\n",
            "Enter a test instance:sunny,mild,normal,strong\n",
            "Output Class:  yes\n"
          ],
          "name": "stdout"
        }
      ]
    },
    {
      "cell_type": "code",
      "metadata": {
        "id": "Up7yS9TLlGeD",
        "colab_type": "code",
        "colab": {}
      },
      "source": [
        ""
      ],
      "execution_count": 0,
      "outputs": []
    }
  ]
}