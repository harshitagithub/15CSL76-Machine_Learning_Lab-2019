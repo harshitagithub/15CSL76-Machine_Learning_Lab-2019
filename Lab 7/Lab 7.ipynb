{
  "nbformat": 4,
  "nbformat_minor": 0,
  "metadata": {
    "colab": {
      "name": "Untitled2.ipynb",
      "provenance": []
    },
    "kernelspec": {
      "name": "python3",
      "display_name": "Python 3"
    }
  },
  "cells": [
    {
      "cell_type": "markdown",
      "metadata": {
        "id": "6Tn9Nxzjk7lR",
        "colab_type": "text"
      },
      "source": [
        "#Lab 7"
      ]
    },
    {
      "cell_type": "code",
      "metadata": {
        "id": "2RhIBPTzoMPo",
        "colab_type": "code",
        "colab": {
          "base_uri": "https://localhost:8080/",
          "height": 128
        },
        "outputId": "5145c6f1-ac1e-4577-9289-ae1ebec84114"
      },
      "source": [
        "!pip install pgmpy"
      ],
      "execution_count": 20,
      "outputs": [
        {
          "output_type": "stream",
          "text": [
            "Collecting pgmpy\n",
            "\u001b[?25l  Downloading https://files.pythonhosted.org/packages/5a/b1/18dfdfcb10dcce71fd39f8c6801407e9aebd953939682558a5317e4a021c/pgmpy-0.1.9-py3-none-any.whl (331kB)\n",
            "\u001b[K     |████████████████████████████████| 337kB 2.8MB/s \n",
            "\u001b[?25hInstalling collected packages: pgmpy\n",
            "Successfully installed pgmpy-0.1.9\n"
          ],
          "name": "stdout"
        }
      ]
    },
    {
      "cell_type": "code",
      "metadata": {
        "id": "AinGKHE0pQ4J",
        "colab_type": "code",
        "colab": {}
      },
      "source": [
        "import numpy as np\n",
        "import pandas as pd\n",
        "import csv\n",
        "lines = list(csv.reader(open('P7_data7_names.csv')))\n",
        "attributes = lines[0]\n",
        "hd = pd.read_csv('P7_data7_heart.csv', names = attributes)\n",
        "hd = hd.replace(\"?\",np.nan)"
      ],
      "execution_count": 0,
      "outputs": []
    },
    {
      "cell_type": "code",
      "metadata": {
        "id": "F1Fz07okpW7X",
        "colab_type": "code",
        "colab": {}
      },
      "source": [
        "from pgmpy.models import BayesianModel\n",
        "m = BayesianModel([('age', 'trestbps'), ('age', 'fbs'), ('sex', 'trestbps'), ('sex', 'trestbps'),\n",
        "('exang', 'trestbps'),('trestbps','heartdisease'),('fbs','heartdisease'),\n",
        "('heartdisease','restecg'),('heartdisease','thalach'),('heartdisease','chol')])"
      ],
      "execution_count": 0,
      "outputs": []
    },
    {
      "cell_type": "code",
      "metadata": {
        "id": "-V951AA6pwhn",
        "colab_type": "code",
        "colab": {}
      },
      "source": [
        "from pgmpy.estimators import MaximumLikelihoodEstimator\n",
        "m.fit(hd,estimator=MaximumLikelihoodEstimator)"
      ],
      "execution_count": 0,
      "outputs": []
    },
    {
      "cell_type": "code",
      "metadata": {
        "id": "qCJAK_HSpyIP",
        "colab_type": "code",
        "colab": {
          "base_uri": "https://localhost:8080/",
          "height": 290
        },
        "outputId": "1f9ddabb-31ee-469f-b18c-25c6968376f9"
      },
      "source": [
        "from pgmpy.inference import VariableElimination\n",
        "df_infer = VariableElimination(m)\n",
        "q = df_infer.query(variables=['heartdisease'],evidence={'chol':212})\n",
        "print(q)"
      ],
      "execution_count": 24,
      "outputs": [
        {
          "output_type": "stream",
          "text": [
            "Finding Elimination Order: : 100%|██████████| 7/7 [00:00<00:00, 1351.94it/s]\n",
            "Eliminating: thalach: 100%|██████████| 7/7 [00:00<00:00, 68.55it/s]"
          ],
          "name": "stderr"
        },
        {
          "output_type": "stream",
          "text": [
            "+-----------------+---------------------+\n",
            "| heartdisease    |   phi(heartdisease) |\n",
            "+=================+=====================+\n",
            "| heartdisease(0) |              0.1889 |\n",
            "+-----------------+---------------------+\n",
            "| heartdisease(1) |              0.2043 |\n",
            "+-----------------+---------------------+\n",
            "| heartdisease(2) |              0.1881 |\n",
            "+-----------------+---------------------+\n",
            "| heartdisease(3) |              0.1915 |\n",
            "+-----------------+---------------------+\n",
            "| heartdisease(4) |              0.2273 |\n",
            "+-----------------+---------------------+\n"
          ],
          "name": "stdout"
        },
        {
          "output_type": "stream",
          "text": [
            "\n"
          ],
          "name": "stderr"
        }
      ]
    },
    {
      "cell_type": "code",
      "metadata": {
        "id": "oqCzBn-Kp20P",
        "colab_type": "code",
        "colab": {}
      },
      "source": [
        ""
      ],
      "execution_count": 0,
      "outputs": []
    }
  ]
}