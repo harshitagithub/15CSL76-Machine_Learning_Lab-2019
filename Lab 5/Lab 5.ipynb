{
  "nbformat": 4,
  "nbformat_minor": 0,
  "metadata": {
    "colab": {
      "name": "Untitled2.ipynb",
      "provenance": []
    },
    "kernelspec": {
      "name": "python3",
      "display_name": "Python 3"
    }
  },
  "cells": [
    {
      "cell_type": "markdown",
      "metadata": {
        "id": "6Tn9Nxzjk7lR",
        "colab_type": "text"
      },
      "source": [
        "#Lab 5"
      ]
    },
    {
      "cell_type": "code",
      "metadata": {
        "id": "KWEEdxAAk4Me",
        "colab_type": "code",
        "colab": {
          "base_uri": "https://localhost:8080/",
          "height": 163
        },
        "outputId": "ed7239a7-be6b-4757-82f3-8a767ada1d57"
      },
      "source": [
        "import pandas as pd\n",
        "import numpy as np\n",
        "import math\n",
        "\n",
        "df = pd.read_csv('P5_naivedata.csv',names=[0, 1, 2, 3, 4, 5, 6, 7])\n",
        "\n",
        "print(\"Total instances: \", len(df))\n",
        "print(\"Total attributes present: 8\")\n",
        "print(df.head())"
      ],
      "execution_count": 9,
      "outputs": [
        {
          "output_type": "stream",
          "text": [
            "Total instances:  768\n",
            "Total attributes present: 8\n",
            "     0   1   2    3     4      5   6  7\n",
            "6  148  72  35    0  33.6  0.627  50  1\n",
            "1   85  66  29    0  26.6  0.351  31  0\n",
            "8  183  64   0    0  23.3  0.672  32  1\n",
            "1   89  66  23   94  28.1  0.167  21  0\n",
            "0  137  40  35  168  43.1  2.288  33  1\n"
          ],
          "name": "stdout"
        }
      ]
    },
    {
      "cell_type": "code",
      "metadata": {
        "id": "fEbw_mB-uRwK",
        "colab_type": "code",
        "colab": {
          "base_uri": "https://localhost:8080/",
          "height": 54
        },
        "outputId": "41a51987-4e9b-4186-f941-df800ec3aa2f"
      },
      "source": [
        "t1 = int(len(df)*0.75)\n",
        "dftrain = df.iloc[0:t1]\n",
        "dftest = df.iloc[t1:]\n",
        "print(\"Training Examples: \", len(dftrain))\n",
        "print(\"Testing Examples: \", len(dftest))"
      ],
      "execution_count": 10,
      "outputs": [
        {
          "output_type": "stream",
          "text": [
            "Training Examples:  576\n",
            "Testing Examples:  192\n"
          ],
          "name": "stdout"
        }
      ]
    },
    {
      "cell_type": "code",
      "metadata": {
        "id": "jnMCndxCtauZ",
        "colab_type": "code",
        "colab": {}
      },
      "source": [
        "dftrain1 = dftrain[dftrain[7]==1] # Class 0 training examples\n",
        "dftrain0 = dftrain[dftrain[7]==0] # Class 1 training examples\n",
        "\n",
        "mean1 = dftrain1.mean()\n",
        "std1 = dftrain1.std()\n",
        "\n",
        "mean0 = dftrain0.mean()\n",
        "std0 = dftrain0.std()"
      ],
      "execution_count": 0,
      "outputs": []
    },
    {
      "cell_type": "code",
      "metadata": {
        "id": "Up7yS9TLlGeD",
        "colab_type": "code",
        "outputId": "c612c095-5e31-45bd-b8b6-c6aa236b9ad1",
        "colab": {
          "base_uri": "https://localhost:8080/",
          "height": 35
        }
      },
      "source": [
        "p1=[]\n",
        "for i in range(len(dftest)):\n",
        "  x = dftest.iloc[i]\n",
        "  product = 1\n",
        "  for ele in range(len(x)-1):\n",
        "    e = math.exp(-((x[ele]-mean1[ele])**2 / (2*std1[ele]**2)))\n",
        "    p = e/(((2*math.pi)**0.5)*std1[ele])\n",
        "    product*=p\n",
        "  p1.append(product)\n",
        "print(p1[0]) #probability for class 1"
      ],
      "execution_count": 13,
      "outputs": [
        {
          "output_type": "stream",
          "text": [
            "2.308329469682418e-12\n"
          ],
          "name": "stdout"
        }
      ]
    },
    {
      "cell_type": "code",
      "metadata": {
        "id": "H9bY7s_HoDEq",
        "colab_type": "code",
        "outputId": "90d1f8d3-4395-4181-c11b-0c88ff369738",
        "colab": {
          "base_uri": "https://localhost:8080/",
          "height": 35
        }
      },
      "source": [
        "p0=[]\n",
        "for i in range(len(dftest)):\n",
        "  x = dftest.iloc[i]\n",
        "  product = 1\n",
        "  for ele in range(len(x)-1):\n",
        "    e = math.exp(-((x[ele]-mean0[ele])**2 / (2*std0[ele]**2)))\n",
        "    p = e/(((2*math.pi)**0.5)*std0[ele])\n",
        "    product=product*p\n",
        "  p0.append(product)\n",
        "print(p0[0]) #probability for class 0"
      ],
      "execution_count": 14,
      "outputs": [
        {
          "output_type": "stream",
          "text": [
            "8.154839857491944e-12\n"
          ],
          "name": "stdout"
        }
      ]
    },
    {
      "cell_type": "code",
      "metadata": {
        "id": "BQGsZMRQoE35",
        "colab_type": "code",
        "outputId": "72c719c6-3a6c-486c-f6fc-98d7423bc239",
        "colab": {
          "base_uri": "https://localhost:8080/",
          "height": 35
        }
      },
      "source": [
        "predict=[]\n",
        "for i in range(len(dftest)):\n",
        "  if p0[i]<p1[i]:\n",
        "    predict.append(1)\n",
        "  else:\n",
        "    predict.append(0)\n",
        "\n",
        "count = 0\n",
        "for i in range(len(dftest)):\n",
        "  if(predict[i]==dftest[7].iloc[i]):\n",
        "    count+=1\n",
        "print(\"Accuracy : \", 100*count/len(dftest))"
      ],
      "execution_count": 0,
      "outputs": [
        {
          "output_type": "stream",
          "text": [
            "Accuracy :  79.6875\n"
          ],
          "name": "stdout"
        }
      ]
    },
    {
      "cell_type": "code",
      "metadata": {
        "id": "2RhIBPTzoMPo",
        "colab_type": "code",
        "colab": {}
      },
      "source": [
        ""
      ],
      "execution_count": 0,
      "outputs": []
    }
  ]
}