{
  "nbformat": 4,
  "nbformat_minor": 0,
  "metadata": {
    "colab": {
      "name": "Untitled2.ipynb",
      "provenance": []
    },
    "kernelspec": {
      "name": "python3",
      "display_name": "Python 3"
    }
  },
  "cells": [
    {
      "cell_type": "markdown",
      "metadata": {
        "id": "6Tn9Nxzjk7lR",
        "colab_type": "text"
      },
      "source": [
        "#Lab 3"
      ]
    },
    {
      "cell_type": "code",
      "metadata": {
        "id": "KWEEdxAAk4Me",
        "colab_type": "code",
        "colab": {
          "base_uri": "https://localhost:8080/",
          "height": 235
        },
        "outputId": "feb597f0-3b2e-4339-b788-44fe83e7489b"
      },
      "source": [
        "import numpy as np\n",
        "x = np.array(([2,9],[1,5],[3,6]))\n",
        "y = np.array(([0.92],[0.86],[0.89]))\n",
        "x = x/np.amax(x, axis=0)\n",
        "\n",
        "def sigmoid(x):\n",
        " return 1/1+np.exp(-x)\n",
        "def derivative(x):\n",
        " return x*(1-x)\n",
        "\n",
        "epoch,lr,input_neurons,hidden_neurons,output_neurons = 50000,0.01,2,3,1\n",
        "wh = np.random.uniform(size=(input_neurons,hidden_neurons))\n",
        "bh = np.random.uniform(size=(1,hidden_neurons))\n",
        "wout = np.random.uniform(size=(hidden_neurons,output_neurons))\n",
        "bout = np.random.uniform(size=(1,output_neurons))\n",
        "\n",
        "for i in range(epoch):\n",
        " hinp = np.dot(x,wh) + bh \n",
        " h_act = sigmoid(hinp)\n",
        "\n",
        " hout = np.dot(h_act,wout) + bout\n",
        " output = sigmoid(hout)\n",
        "\n",
        " error = y - output\n",
        " gradient = derivative(output)\n",
        " total_output_error = error*gradient\n",
        "\n",
        " error_hidden = total_output_error.dot(wout.T)\n",
        " hidden_gradient = derivative(h_act)\n",
        " total_hidden_error = error_hidden*hidden_gradient\n",
        "\n",
        " wout += np.dot(h_act.T, total_output_error)*lr\n",
        " wh += np.dot(x.T, total_hidden_error)*lr\n",
        "\n",
        "print(\"Input: \\n\" + str(x))\n",
        "print(\"Actual Output: \\n\" + str(y))\n",
        "print(\"Predicted Output: \\n\" ,output)"
      ],
      "execution_count": 4,
      "outputs": [
        {
          "output_type": "stream",
          "text": [
            "Input: \n",
            "[[0.66666667 1.        ]\n",
            " [0.33333333 0.55555556]\n",
            " [1.         0.66666667]]\n",
            "Actual Output: \n",
            "[[0.92]\n",
            " [0.86]\n",
            " [0.89]]\n",
            "Predicted Output: \n",
            " [[1.00026172]\n",
            " [1.00057873]\n",
            " [1.00024936]]\n"
          ],
          "name": "stdout"
        }
      ]
    },
    {
      "cell_type": "code",
      "metadata": {
        "id": "Up7yS9TLlGeD",
        "colab_type": "code",
        "colab": {}
      },
      "source": [
        ""
      ],
      "execution_count": 0,
      "outputs": []
    }
  ]
}