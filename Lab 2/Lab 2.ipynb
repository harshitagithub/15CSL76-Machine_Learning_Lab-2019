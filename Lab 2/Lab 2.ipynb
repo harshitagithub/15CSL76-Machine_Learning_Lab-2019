{
  "nbformat": 4,
  "nbformat_minor": 0,
  "metadata": {
    "colab": {
      "name": "Untitled2.ipynb",
      "provenance": []
    },
    "kernelspec": {
      "name": "python3",
      "display_name": "Python 3"
    }
  },
  "cells": [
    {
      "cell_type": "markdown",
      "metadata": {
        "id": "6Tn9Nxzjk7lR",
        "colab_type": "text"
      },
      "source": [
        "#Lab 2"
      ]
    },
    {
      "cell_type": "code",
      "metadata": {
        "id": "KWEEdxAAk4Me",
        "colab_type": "code",
        "colab": {
          "base_uri": "https://localhost:8080/",
          "height": 272
        },
        "outputId": "5f98dac8-3a4c-4fd8-c284-9e72732fb3ae"
      },
      "source": [
        "import numpy as np\n",
        "import pandas as pd\n",
        "data = pd.read_csv('P2_dataset1.csv')\n",
        "concepts = np.array(data.iloc[:, 0:-1])\n",
        "target = np.array(data.iloc[:, -1])\n",
        "\n",
        "print(\"SPECIFIC \", 0, \" : \",'[0, 0, 0, 0, 0, 0]')\n",
        "print(\"GENERAL  \", 0, \" :  ['?', '?', '?', '?', '?', '?']\")\n",
        "\n",
        "flag = 0\n",
        "specific_h = concepts[0].copy()\n",
        "general_h = [['?' for i in range(len(specific_h))] for i in range(len(specific_h))]\n",
        "\n",
        "for i, h in enumerate(concepts):\n",
        "  if target[i] == 'Y':\n",
        "    for x in range(len(h)):\n",
        "      if h[x] != specific_h[x]:\n",
        "        specific_h[x] = '?'\n",
        "        general_h[x][x] = '?'\n",
        "  if target[i] == 'N':\n",
        "    for x in range(len(h)):\n",
        "      if h[x] != specific_h[x]:\n",
        "        general_h[x][x] = specific_h[x]\n",
        "      else:\n",
        "        general_h[x][x] = '?'\n",
        "    flag = 1\n",
        "  \n",
        "  if flag == 1:\n",
        "    general_hyp = [val for val in general_h if val != ['?', '?', '?', '?', '?', '?']]\n",
        "  else:\n",
        "    general_hyp = ['?', '?', '?', '?', '?', '?']\n",
        "  \n",
        "  print(\"\\nSPECIFIC \",i+1,\" : \",specific_h)\n",
        "  print(\"GENERAL  \", i+1,\" : \",general_hyp)"
      ],
      "execution_count": 1,
      "outputs": [
        {
          "output_type": "stream",
          "text": [
            "SPECIFIC  0  :  [0, 0, 0, 0, 0, 0]\n",
            "GENERAL   0  :  ['?', '?', '?', '?', '?', '?']\n",
            "\n",
            "SPECIFIC  1  :  ['sunny' 'warm' 'normal' 'strong' 'warm' 'same']\n",
            "GENERAL   1  :  ['?', '?', '?', '?', '?', '?']\n",
            "\n",
            "SPECIFIC  2  :  ['sunny' 'warm' '?' 'strong' 'warm' 'same']\n",
            "GENERAL   2  :  ['?', '?', '?', '?', '?', '?']\n",
            "\n",
            "SPECIFIC  3  :  ['sunny' 'warm' '?' 'strong' 'warm' 'same']\n",
            "GENERAL   3  :  [['sunny', '?', '?', '?', '?', '?'], ['?', 'warm', '?', '?', '?', '?'], ['?', '?', '?', '?', '?', 'same']]\n",
            "\n",
            "SPECIFIC  4  :  ['sunny' 'warm' '?' 'strong' '?' '?']\n",
            "GENERAL   4  :  [['sunny', '?', '?', '?', '?', '?'], ['?', 'warm', '?', '?', '?', '?']]\n"
          ],
          "name": "stdout"
        }
      ]
    },
    {
      "cell_type": "code",
      "metadata": {
        "id": "Up7yS9TLlGeD",
        "colab_type": "code",
        "colab": {}
      },
      "source": [
        ""
      ],
      "execution_count": 0,
      "outputs": []
    }
  ]
}